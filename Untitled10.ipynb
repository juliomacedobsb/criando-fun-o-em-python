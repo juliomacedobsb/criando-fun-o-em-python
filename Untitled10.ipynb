{
  "nbformat": 4,
  "nbformat_minor": 0,
  "metadata": {
    "colab": {
      "name": "Untitled10.ipynb",
      "provenance": [],
      "authorship_tag": "ABX9TyP2/ZQtkS/0k5+2qr+z1Ues"
    },
    "kernelspec": {
      "name": "python3",
      "display_name": "Python 3"
    },
    "language_info": {
      "name": "python"
    }
  },
  "cells": [
    {
      "cell_type": "code",
      "execution_count": 1,
      "metadata": {
        "id": "TzoxDlF8Xn4k"
      },
      "outputs": [],
      "source": [
        "l  = ['abcd ', 'aBcDE', 'DERJF', '    HDKAJ']"
      ]
    },
    {
      "cell_type": "code",
      "source": [
        "def organiz_txt(texto):\n",
        "    texto = texto.upper()\n",
        "    texto = texto.strip()\n",
        "    return texto"
      ],
      "metadata": {
        "id": "agjKxC4YXz2l"
      },
      "execution_count": 2,
      "outputs": []
    },
    {
      "cell_type": "markdown",
      "source": [
        "### 'i' se refere ao índice"
      ],
      "metadata": {
        "id": "ttpLVa5KYdb2"
      }
    },
    {
      "cell_type": "code",
      "source": [
        "for i, produto in enumerate(l):\n",
        "  l[i] = organiz_txt(produto)"
      ],
      "metadata": {
        "id": "5fHDWILXYBHd"
      },
      "execution_count": 3,
      "outputs": []
    },
    {
      "cell_type": "code",
      "source": [
        "print(l)"
      ],
      "metadata": {
        "colab": {
          "base_uri": "https://localhost:8080/"
        },
        "id": "lKyfJpfFYXKM",
        "outputId": "a5a206e0-8181-43fa-9ddb-e8c9789248b5"
      },
      "execution_count": 4,
      "outputs": [
        {
          "output_type": "stream",
          "name": "stdout",
          "text": [
            "['ABCD', 'ABCDE', 'DERJF', 'HDKAJ']\n"
          ]
        }
      ]
    },
    {
      "cell_type": "markdown",
      "source": [
        "### valor que vai ser guardado na lista e o proprio produto so q tratado"
      ],
      "metadata": {
        "id": "eznDj21jYwPG"
      }
    }
  ]
}